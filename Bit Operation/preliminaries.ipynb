{
 "cells": [
  {
   "cell_type": "markdown",
   "id": "ba3f67ca",
   "metadata": {},
   "source": [
    "# Python中的Bit运算"
   ]
  },
  {
   "cell_type": "code",
   "execution_count": 3,
   "id": "2785b827",
   "metadata": {},
   "outputs": [
    {
     "name": "stdout",
     "output_type": "stream",
     "text": [
      "第0位数存在\n",
      "第1位数存在\n",
      "第3位数存在\n"
     ]
    }
   ],
   "source": [
    "# 集合的遍历（注意：在Python中我们将集合表示为一个二进制数，这样更加方便）\n",
    "s = 0b1011\n",
    "\n",
    "# for i in range(n):\n",
    "#     if (s>>i)& 1: # 如果i在s中\n",
    "#         # 执行下一步处理的逻辑\n",
    "\n",
    "for i in range(s.bit_length()):\n",
    "    if (s >> i) & 1:\n",
    "        print(f\"第{i}位数存在\")"
   ]
  },
  {
   "cell_type": "code",
   "execution_count": 7,
   "id": "720e7ede",
   "metadata": {},
   "outputs": [
    {
     "name": "stdout",
     "output_type": "stream",
     "text": [
      "11\n",
      "10 0b1010\n"
     ]
    }
   ],
   "source": [
    "print(s)\n",
    "print(s-1,bin(s-1))"
   ]
  },
  {
   "cell_type": "code",
   "execution_count": null,
   "id": "ffdf68bd",
   "metadata": {},
   "outputs": [
    {
     "name": "stdout",
     "output_type": "stream",
     "text": [
      "0b1011\n",
      "0b1010\n",
      "0b1001\n",
      "0b1000\n",
      "0b11\n",
      "0b10\n",
      "0b1\n",
      "0b0\n"
     ]
    }
   ],
   "source": [
    "sub = s\n",
    "\n",
    "while True:\n",
    "    print(bin(sub))\n",
    "    if sub == 0:\n",
    "        break\n",
    "    sub = (sub - 1) & s # 确保我们遍历的一定都是s的子集（压缩版的二进制减法）"
   ]
  }
 ],
 "metadata": {
  "kernelspec": {
   "display_name": "base",
   "language": "python",
   "name": "python3"
  },
  "language_info": {
   "codemirror_mode": {
    "name": "ipython",
    "version": 3
   },
   "file_extension": ".py",
   "mimetype": "text/x-python",
   "name": "python",
   "nbconvert_exporter": "python",
   "pygments_lexer": "ipython3",
   "version": "3.12.7"
  }
 },
 "nbformat": 4,
 "nbformat_minor": 5
}
